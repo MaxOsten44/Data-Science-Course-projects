{
  "nbformat": 4,
  "nbformat_minor": 0,
  "metadata": {
    "colab": {
      "provenance": []
    },
    "kernelspec": {
      "name": "python3",
      "display_name": "Python 3"
    },
    "language_info": {
      "name": "python"
    }
  },
  "cells": [
    {
      "cell_type": "code",
      "execution_count": null,
      "metadata": {
        "id": "BB7jlbqUJ9DJ",
        "colab": {
          "base_uri": "https://localhost:8080/"
        },
        "outputId": "3dde408a-fd6d-4a2b-a66e-c3165b06dfbd"
      },
      "outputs": [
        {
          "output_type": "stream",
          "name": "stdout",
          "text": [
            "the maximum value was:64\n",
            "The average was:4.949\n"
          ]
        }
      ],
      "source": [
        "import random\n",
        "\n",
        "def dicegame():\n",
        "  wins = 0\n",
        "  rolled_value = random.randint(1,6)\n",
        "  winning_values = [4,5,6]\n",
        "  while rolled_value in winning_values:\n",
        "    wins = rolled_value + wins \n",
        "    rolled_value = random.randint(1,6)\n",
        "  return wins \n",
        "  \n",
        "def simulation_count(s): \n",
        "    av_max=[]\n",
        "    for i in range(s):\n",
        "      av_max.append(dicegame())\n",
        "    max_value = max(av_max)\n",
        "    average = sum(av_max)/len(av_max)\n",
        "    return max_value, average\n",
        "max_value,average = simulation_count(10000)\n",
        "\n",
        "print(f\"the maximum value was:{max_value}\")\n",
        "print(f\"The average was:{average}\")"
      ]
    }
  ]
}